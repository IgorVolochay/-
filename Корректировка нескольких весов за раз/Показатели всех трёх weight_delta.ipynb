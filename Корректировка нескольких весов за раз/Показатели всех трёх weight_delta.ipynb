{
 "cells": [
  {
   "cell_type": "code",
   "execution_count": 37,
   "metadata": {},
   "outputs": [],
   "source": [
    "def neural_network(inp, weights):\n",
    "    output = 0\n",
    "    \n",
    "    for i in range(len(inp)):\n",
    "        output += (inp[i] * weights[i])\n",
    "        \n",
    "    return output"
   ]
  },
  {
   "cell_type": "code",
   "execution_count": 38,
   "metadata": {},
   "outputs": [],
   "source": [
    "weights = [0.1, 0.49, 0.9]\n",
    "inp = [8.4, 0.24, 1.1]\n",
    "goal_pred = 1.5"
   ]
  },
  {
   "cell_type": "code",
   "execution_count": 39,
   "metadata": {},
   "outputs": [
    {
     "name": "stdout",
     "output_type": "stream",
     "text": [
      "Weight_delta[0]: 3.759840000000002\n",
      "Weight_delta[1]: 0.10742400000000005\n",
      "Weight_delta[2]: 0.4923600000000003\n"
     ]
    }
   ],
   "source": [
    "pred = neural_network(inp, weights)\n",
    "delta = pred - goal_pred\n",
    "error = delta ** 2\n",
    "\n",
    "for i in range(len(inp)):\n",
    "    print(\"Weight_delta[\" + str(i) + \"]:\", delta * inp[i])"
   ]
  },
  {
   "cell_type": "code",
   "execution_count": null,
   "metadata": {},
   "outputs": [],
   "source": []
  }
 ],
 "metadata": {
  "kernelspec": {
   "display_name": "Python 3",
   "language": "python",
   "name": "python3"
  },
  "language_info": {
   "codemirror_mode": {
    "name": "ipython",
    "version": 3
   },
   "file_extension": ".py",
   "mimetype": "text/x-python",
   "name": "python",
   "nbconvert_exporter": "python",
   "pygments_lexer": "ipython3",
   "version": "3.7.4"
  }
 },
 "nbformat": 4,
 "nbformat_minor": 4
}
