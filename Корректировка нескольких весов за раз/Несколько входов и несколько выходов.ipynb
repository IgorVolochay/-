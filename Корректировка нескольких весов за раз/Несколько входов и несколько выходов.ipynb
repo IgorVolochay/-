{
 "cells": [
  {
   "cell_type": "code",
   "execution_count": 1,
   "metadata": {},
   "outputs": [],
   "source": [
    "weight = [[1, 1, 1],\n",
    "          [1, 1, 1],\n",
    "          [1, 1, 1]]\n",
    "\n",
    "inp = [8.4, 0.24, 1.1]\n",
    "goal_pred = [10, 5, 1]\n",
    "\n",
    "def neural_network(inp, weight):\n",
    "    output = [0,0,0] \n",
    "    for i in range(len(weight)):\n",
    "        output[i] = w_sum(inp, weight[i])\n",
    "        \n",
    "    return output\n",
    "\n",
    "def w_sum(a, b):\n",
    "    output = 0 \n",
    "    for i in range(len(a)):\n",
    "        output += (a[i] * b[i])\n",
    "        \n",
    "    return output"
   ]
  },
  {
   "cell_type": "code",
   "execution_count": 9,
   "metadata": {},
   "outputs": [
    {
     "name": "stdout",
     "output_type": "stream",
     "text": [
      "Iteration: 1\n",
      "Pred: [9.74, 9.74, 9.74]\n",
      "Error: [0.06759999999999988, 22.4676, 76.3876]\n",
      "Weight: [[1, 1, 1], [1, 1, 1], [1, 1, 1]]\n",
      "Weights_Deltas: [[-2.1839999999999984, -0.06239999999999995, -0.2859999999999998], [39.816, 1.1376, 5.214], [73.41600000000001, 2.0976, 9.614]]\n",
      "\n",
      "Iteration: 2\n",
      "Pred: [9.926751760000002, 6.33537176, 3.462267759999999]\n",
      "Error: [0.005365304663097318, 1.783217737405498, 6.062762521935413]\n",
      "Weight: [[1.02184, 1.000624, 1.00286], [0.6018399999999999, 0.988624, 0.94786], [0.26583999999999985, 0.979024, 0.90386]]\n",
      "Weights_Deltas: [[-0.6152852159999839, -0.01757957759999954, -0.08057306399999789], [11.217122784, 0.3204892224, 1.4689089360000003], [20.683049183999994, 0.5909442623999998, 2.7084945359999995]]\n",
      "\n",
      "Iteration: 3\n",
      "Pred: [9.979364212834241, 5.37620627371424, 1.6936799224182395]\n",
      "Error: [0.00042583571195049384, 0.14153116038195399, 0.4811918347661748]\n",
      "Weight: [[1.02799285216, 1.000799795776, 1.00366573064], [0.48966877215999993, 0.985419107776, 0.93317091064], [0.05900950815999992, 0.9731145573760001, 0.87677505464]]\n",
      "Weights_Deltas: [[-0.17334061219237357, -0.004952588919782101, -0.022699365882334635], [3.16013269919962, 0.09028950569141769, 0.4138269010856645], [5.826911348313212, 0.1664831813803775, 0.7630479146600635]]\n",
      "\n"
     ]
    }
   ],
   "source": [
    "alpha = 0.01\n",
    "for iteration in range(3):\n",
    "    pred = neural_network(inp, weight)\n",
    "    error = [0, 0, 0]\n",
    "    delta = [0, 0, 0]\n",
    "    weight_delta = [[0, 0, 0],\n",
    "                    [0, 0, 0],\n",
    "                    [0, 0, 0]]\n",
    "    \n",
    "    for i in range(len(goal_pred)):\n",
    "        delta[i] = pred[i] - goal_pred[i]\n",
    "        error[i] = delta[i] ** 2\n",
    "        for j in range(len(delta)):\n",
    "            weight_delta[i][j] = inp[j] * delta[i]\n",
    "\n",
    "    print(\"Iteration: \" + str(iteration + 1))\n",
    "    print(\"Pred: \" + str(pred))\n",
    "    print(\"Error: \" + str(error))\n",
    "    print(\"Weight: \" + str(weight))\n",
    "    print(\"Weights_Deltas: \" + str(weight_delta) + \"\\n\")\n",
    "    \n",
    "    for i in range(len(weight)):\n",
    "        for j in range(len(weight[0])):\n",
    "            weight[i][j] -= weight_delta[i][j] * alpha"
   ]
  },
  {
   "cell_type": "code",
   "execution_count": null,
   "metadata": {},
   "outputs": [],
   "source": []
  }
 ],
 "metadata": {
  "kernelspec": {
   "display_name": "Python 3",
   "language": "python",
   "name": "python3"
  },
  "language_info": {
   "codemirror_mode": {
    "name": "ipython",
    "version": 3
   },
   "file_extension": ".py",
   "mimetype": "text/x-python",
   "name": "python",
   "nbconvert_exporter": "python",
   "pygments_lexer": "ipython3",
   "version": "3.7.4"
  }
 },
 "nbformat": 4,
 "nbformat_minor": 4
}
