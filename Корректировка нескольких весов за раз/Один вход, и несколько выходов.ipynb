{
 "cells": [
  {
   "cell_type": "code",
   "execution_count": 19,
   "metadata": {},
   "outputs": [],
   "source": [
    "weights  = [0.1, 0.49, 0.9]\n",
    "gola_pred = [8.4, 0.24, 1.1]\n",
    "inp = 1.95\n",
    "\n",
    "def neural_network(inp, weights):\n",
    "    output = [0,0,0]\n",
    "    \n",
    "    for i in range(len(weights)):\n",
    "        output[i] = inp * weights[i]\n",
    "        \n",
    "    return output"
   ]
  },
  {
   "cell_type": "code",
   "execution_count": 20,
   "metadata": {},
   "outputs": [
    {
     "name": "stdout",
     "output_type": "stream",
     "text": [
      "Iteration: 1\n",
      "Pred: [0.195, 0.9555, 1.755]\n",
      "Error: [67.322025, 0.51194025, 0.42902499999999977]\n",
      "Weights: [1.6999750000000002, 0.3504775, 0.772275]\n",
      "Weights_Deltas: [-15.99975, 1.395225, 1.2772499999999996]\n",
      "\n",
      "Iteration: 2\n",
      "Pred: [3.3149512500000005, 0.683431125, 1.50593625]\n",
      "Error: [25.857720789876566, 0.19663116261876565, 0.16478423906406242]\n",
      "Weights: [2.6915595062500004, 0.264008430625, 0.69311743125]\n",
      "Weights_Deltas: [-9.9158450625, 0.8646906937500001, 0.7915756874999997]\n",
      "\n",
      "Iteration: 3\n",
      "Pred: [5.2485410371875005, 0.51481643971875, 1.3515789909375]\n",
      "Error: [9.931693594291238, 0.07552407553968937, 0.06329198868113066]\n",
      "Weights: [3.306094003998438, 0.21041922487984377, 0.6440595280171876]\n",
      "Weights_Deltas: [-6.145344977484375, 0.5358920574515625, 0.49057903232812483]\n",
      "\n"
     ]
    }
   ],
   "source": [
    "alpha = 0.1\n",
    "for iteration in range(3):\n",
    "    pred = neural_network(inp, weights)\n",
    "    error = [0, 0, 0]\n",
    "    delta = [0, 0, 0]\n",
    "    weights_delta = [0, 0, 0]\n",
    "\n",
    "    for i in range(len(gola_pred)):\n",
    "        delta[i] = pred[i] - gola_pred[i]\n",
    "        error[i] = delta[i] ** 2\n",
    "        weights_delta[i] = inp * delta[i]\n",
    "    \n",
    "    print(\"Iteration: \" + str(iteration + 1))\n",
    "    print(\"Pred: \" + str(pred))\n",
    "    print(\"Error: \" + str(error))\n",
    "    print(\"Weights: \" + str(weights))\n",
    "    print(\"Weights_Deltas: \" + str(weights_delta) + \"\\n\")\n",
    "    \n",
    "    for i in range(len(weights)):\n",
    "        weights[i] -= (weights_delta[i] * alpha)"
   ]
  },
  {
   "cell_type": "code",
   "execution_count": null,
   "metadata": {},
   "outputs": [],
   "source": []
  }
 ],
 "metadata": {
  "kernelspec": {
   "display_name": "Python 3",
   "language": "python",
   "name": "python3"
  },
  "language_info": {
   "codemirror_mode": {
    "name": "ipython",
    "version": 3
   },
   "file_extension": ".py",
   "mimetype": "text/x-python",
   "name": "python",
   "nbconvert_exporter": "python",
   "pygments_lexer": "ipython3",
   "version": "3.7.4"
  }
 },
 "nbformat": 4,
 "nbformat_minor": 4
}
