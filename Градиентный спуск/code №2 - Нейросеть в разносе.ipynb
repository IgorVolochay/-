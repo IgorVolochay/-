{
 "cells": [
  {
   "cell_type": "code",
   "execution_count": 3,
   "metadata": {},
   "outputs": [],
   "source": [
    "weight = 1\n",
    "goal_pred = 4\n",
    "inp = 5"
   ]
  },
  {
   "cell_type": "code",
   "execution_count": 4,
   "metadata": {},
   "outputs": [
    {
     "name": "stdout",
     "output_type": "stream",
     "text": [
      "Error: 1  Prediction: 5 Weight: -4\n",
      "Error: 576  Prediction: -20 Weight: 116\n",
      "Error: 331776  Prediction: 580 Weight: -2764\n",
      "Error: 191102976  Prediction: -13820 Weight: 66356\n",
      "Error: 110075314176  Prediction: 331780 Weight: -1592524\n",
      "Error: 63403380965376  Prediction: -7962620 Weight: 38220596\n",
      "Error: 36520347436056576  Prediction: 191102980 Weight: -917294284\n",
      "Error: 21035720123168587776  Prediction: -4586471420 Weight: 22015062836\n",
      "Error: 12116574790945106558976  Prediction: 110075314180 Weight: -528361508044\n",
      "Error: 6979147079584381377970176  Prediction: -2641807540220 Weight: 12680676193076\n",
      "Error: 4019988717840603673710821376  Prediction: 63403380965380 Weight: -304336228633804\n",
      "Error: 2315513501476187716057433112576  Prediction: -1521681143169020 Weight: 7304069487211316\n",
      "Error: 1333735776850284124449081472843776  Prediction: 36520347436056580 Weight: -175297667693071564\n",
      "Error: 768231807465763655682670928358014976  Prediction: -876488338465357820 Weight: 4207144024633717556\n",
      "Error: 442501521100279865673218454734216626176  Prediction: 21035720123168587780 Weight: -100971456591209221324\n",
      "Error: 254880876153761202627773829926908776677376  Prediction: -504857282956046106620 Weight: 2423314958189021311796\n",
      "Error: 146811384664566452713597726037899455366168576  Prediction: 12116574790945106558980 Weight: -58159558996536511483084\n",
      "Error: 84563357566790276763032290197830086290913099776  Prediction: -290797794982682557415420 Weight: 1395829415916876275594036\n",
      "Error: 48708493958471199415506599153950129703565945470976  Prediction: 6979147079584381377970180 Weight: -33499905982005030614256844\n",
      "Error: 28056092520079410863331801112675274709253984591282176  Prediction: -167499529910025153071284220 Weight: 803997743568120734742164276\n"
     ]
    }
   ],
   "source": [
    "for iteration in range(20):\n",
    "    pred = inp * weight\n",
    "    error = (pred - goal_pred) ** 2\n",
    "    direction_and_amount = (pred - goal_pred) * inp\n",
    "    weight -= direction_and_amount\n",
    "    \n",
    "    print(\"Error: \" + str(error), \" Prediction: \" + str(pred), \"Weight:\", weight)"
   ]
  },
  {
   "cell_type": "code",
   "execution_count": null,
   "metadata": {},
   "outputs": [],
   "source": []
  }
 ],
 "metadata": {
  "kernelspec": {
   "display_name": "Python 3",
   "language": "python",
   "name": "python3"
  },
  "language_info": {
   "codemirror_mode": {
    "name": "ipython",
    "version": 3
   },
   "file_extension": ".py",
   "mimetype": "text/x-python",
   "name": "python",
   "nbconvert_exporter": "python",
   "pygments_lexer": "ipython3",
   "version": "3.7.4"
  }
 },
 "nbformat": 4,
 "nbformat_minor": 4
}
