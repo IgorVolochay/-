{
 "cells": [
  {
   "cell_type": "code",
   "execution_count": 1,
   "metadata": {},
   "outputs": [],
   "source": [
    "weight = 1\n",
    "goal_pred = 4\n",
    "inp = 5\n",
    "alpha = 0.01"
   ]
  },
  {
   "cell_type": "code",
   "execution_count": 2,
   "metadata": {},
   "outputs": [
    {
     "name": "stdout",
     "output_type": "stream",
     "text": [
      "Error: 1 Prediction: 5 Weight: 0.95\n",
      "Error: 0.5625 Prediction: 4.75 Weight: 0.9125\n",
      "Error: 0.31640625 Prediction: 4.5625 Weight: 0.884375\n",
      "Error: 0.177978515625 Prediction: 4.421875 Weight: 0.86328125\n",
      "Error: 0.1001129150390625 Prediction: 4.31640625 Weight: 0.8474609375\n",
      "Error: 0.056313514709472656 Prediction: 4.2373046875 Weight: 0.835595703125\n",
      "Error: 0.03167635202407837 Prediction: 4.177978515625 Weight: 0.82669677734375\n",
      "Error: 0.017817948013544083 Prediction: 4.13348388671875 Weight: 0.8200225830078125\n",
      "Error: 0.010022595757618546 Prediction: 4.1001129150390625 Weight: 0.8150169372558593\n",
      "Error: 0.005637710113660432 Prediction: 4.075084686279297 Weight: 0.8112627029418945\n",
      "Error: 0.0031712119389339932 Prediction: 4.056313514709473 Weight: 0.8084470272064209\n",
      "Error: 0.0017838067156503712 Prediction: 4.0422351360321045 Weight: 0.8063352704048157\n",
      "Error: 0.0010033912775533338 Prediction: 4.031676352024078 Weight: 0.8047514528036117\n",
      "Error: 0.0005644075936237503 Prediction: 4.023757264018059 Weight: 0.8035635896027088\n",
      "Error: 0.0003174792714133595 Prediction: 4.017817948013544 Weight: 0.8026726922020316\n",
      "Error: 0.00017858209017001473 Prediction: 4.013363461010158 Weight: 0.8020045191515237\n",
      "Error: 0.00010045242572063329 Prediction: 4.0100225957576185 Weight: 0.8015033893636427\n",
      "Error: 5.650448946785622e-05 Prediction: 4.007516946818214 Weight: 0.8011275420227321\n",
      "Error: 3.178377532566913e-05 Prediction: 4.00563771011366 Weight: 0.8008456565170491\n",
      "Error: 1.7878373620688882e-05 Prediction: 4.004228282585245 Weight: 0.8006342423877868\n"
     ]
    }
   ],
   "source": [
    "for _ in range(20):\n",
    "    pred = inp * weight\n",
    "    error = (pred - goal_pred) ** 2\n",
    "    direction_and_amount = (pred - goal_pred) * inp\n",
    "    weight -= direction_and_amount * alpha\n",
    "    \n",
    "    print(\"Error:\", error, \"Prediction:\", pred, \"Weight:\", weight)"
   ]
  },
  {
   "cell_type": "code",
   "execution_count": null,
   "metadata": {},
   "outputs": [],
   "source": []
  }
 ],
 "metadata": {
  "kernelspec": {
   "display_name": "Python 3",
   "language": "python",
   "name": "python3"
  },
  "language_info": {
   "codemirror_mode": {
    "name": "ipython",
    "version": 3
   },
   "file_extension": ".py",
   "mimetype": "text/x-python",
   "name": "python",
   "nbconvert_exporter": "python",
   "pygments_lexer": "ipython3",
   "version": "3.7.4"
  }
 },
 "nbformat": 4,
 "nbformat_minor": 4
}
